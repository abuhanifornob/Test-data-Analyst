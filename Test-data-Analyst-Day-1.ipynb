{
 "cells": [
  {
   "cell_type": "code",
   "execution_count": 1,
   "id": "ee900638-ca82-47bd-a87a-82b1e07220a0",
   "metadata": {},
   "outputs": [
    {
     "name": "stdout",
     "output_type": "stream",
     "text": [
      "Hello\n"
     ]
    }
   ],
   "source": [
    "print(\"Hello\")\n"
   ]
  },
  {
   "cell_type": "code",
   "execution_count": 1,
   "id": "ad258d70-c95b-4c76-adb4-0f33df091037",
   "metadata": {},
   "outputs": [
    {
     "name": "stdout",
     "output_type": "stream",
     "text": [
      "Hello World\n"
     ]
    }
   ],
   "source": [
    "# PYthon Comments\n",
    "print(\"Hello World\")"
   ]
  },
  {
   "cell_type": "code",
   "execution_count": 3,
   "id": "76404543-1525-4d6c-be23-d2acc5d0677e",
   "metadata": {},
   "outputs": [
    {
     "name": "stdout",
     "output_type": "stream",
     "text": [
      "This is Mulit Line Comments\n"
     ]
    }
   ],
   "source": [
    "\"\"\"\n",
    "Python Multile Commnets\n",
    "Section\"\n",
    "\"\"\"\n",
    "print(\"This is Mulit Line Comments\")"
   ]
  },
  {
   "cell_type": "code",
   "execution_count": 11,
   "id": "93a6d866-ca23-42f2-859b-177973bf04b1",
   "metadata": {},
   "outputs": [
    {
     "name": "stdout",
     "output_type": "stream",
     "text": [
      "<class 'str'>\n",
      "<class 'int'>\n"
     ]
    }
   ],
   "source": [
    "# Casting\n",
    "x=str(3)\n",
    "y=int(3)\n",
    "z=float(3)\n",
    "print(type(x))\n",
    "print(type(y))"
   ]
  },
  {
   "cell_type": "code",
   "execution_count": 19,
   "id": "29fa4214-8602-4c46-9793-d359e48b3246",
   "metadata": {},
   "outputs": [
    {
     "name": "stdout",
     "output_type": "stream",
     "text": [
      "taharat\n",
      "10\n"
     ]
    }
   ],
   "source": [
    "#Many Values to Multiple Variables\n",
    "x,y,z='hanif',\"taharat\",\"Hadiya\"\n",
    "print(y)\n",
    "a=b=c=10\n",
    "print(c)"
   ]
  },
  {
   "cell_type": "code",
   "execution_count": 25,
   "id": "7fb5925f-b3a4-46ff-999d-50c6fd0a3d1f",
   "metadata": {},
   "outputs": [
    {
     "name": "stdout",
     "output_type": "stream",
     "text": [
      "apple\n",
      "banana\n",
      "cherry\n",
      "apple banana cherry\n",
      "applebananacherry\n"
     ]
    }
   ],
   "source": [
    "fruits = [\"apple\", \"banana\", \"cherry\"]\n",
    "x, y, z = fruits\n",
    "print(x)\n",
    "print(y)\n",
    "print(z)\n",
    "print(x,y,z)\n",
    "print(x+y+z)"
   ]
  },
  {
   "cell_type": "code",
   "execution_count": 31,
   "id": "e6a75412-be5a-42f4-935e-71be4f400e48",
   "metadata": {},
   "outputs": [
    {
     "name": "stdout",
     "output_type": "stream",
     "text": [
      "Thisis Global Value 10\n"
     ]
    }
   ],
   "source": [
    "x=10\n",
    "def golabalVariable():\n",
    "    print(\"This is Global Value\",x)\n",
    "\n",
    "golabalVariable()\n"
   ]
  },
  {
   "cell_type": "code",
   "execution_count": 43,
   "id": "40027d51-9f93-4955-af16-8594b7f6f5d2",
   "metadata": {},
   "outputs": [
    {
     "name": "stdout",
     "output_type": "stream",
     "text": [
      "1086283533\n"
     ]
    }
   ],
   "source": [
    "import random\n",
    "print(random.randrange(1000000000,2000000000))"
   ]
  },
  {
   "cell_type": "code",
   "execution_count": 45,
   "id": "574e55ef-c250-411b-9a41-f4dd8e1da5d6",
   "metadata": {},
   "outputs": [
    {
     "name": "stdout",
     "output_type": "stream",
     "text": [
      "He is called \"Johnny\"\n"
     ]
    }
   ],
   "source": [
    "print('He is called \"Johnny\"')"
   ]
  },
  {
   "cell_type": "code",
   "execution_count": 47,
   "id": "42b8b3cb-103b-45fa-b4d9-c4160929c80c",
   "metadata": {},
   "outputs": [
    {
     "name": "stdout",
     "output_type": "stream",
     "text": [
      "Lorem ipsum dolor sit amet,\n",
      "consectetur adipiscing elit,\n",
      "sed do eiusmod tempor incididunt\n",
      "ut labore et dolore magna aliqua.\n"
     ]
    }
   ],
   "source": [
    "# String\n",
    "a = '''Lorem ipsum dolor sit amet,\n",
    "consectetur adipiscing elit,\n",
    "sed do eiusmod tempor incididunt\n",
    "ut labore et dolore magna aliqua.'''\n",
    "print(a)"
   ]
  },
  {
   "cell_type": "code",
   "execution_count": 51,
   "id": "2e6504ad-781c-4f3f-b125-2975fb17cd71",
   "metadata": {},
   "outputs": [
    {
     "name": "stdout",
     "output_type": "stream",
     "text": [
      "e\n"
     ]
    }
   ],
   "source": [
    "a=\"Hello World\"\n",
    "print(a[1])"
   ]
  },
  {
   "cell_type": "code",
   "execution_count": 61,
   "id": "9e0d710e-454b-4bb5-88d9-5ed7714bef39",
   "metadata": {},
   "outputs": [
    {
     "name": "stdout",
     "output_type": "stream",
     "text": [
      "Hello World"
     ]
    }
   ],
   "source": [
    "for x in a:\n",
    "    print(x,end=\"\")"
   ]
  },
  {
   "cell_type": "code",
   "execution_count": 69,
   "id": "36d239ad-2c06-4253-8d36-8c0fc07c650e",
   "metadata": {},
   "outputs": [
    {
     "name": "stdout",
     "output_type": "stream",
     "text": [
      "False\n"
     ]
    }
   ],
   "source": [
    "txt = \"The best things in life are free!\"\n",
    "print(\"z\" in txt)"
   ]
  },
  {
   "cell_type": "code",
   "execution_count": 85,
   "id": "9772694b-f529-49a0-83c5-bad04a624c5a",
   "metadata": {},
   "outputs": [
    {
     "name": "stdout",
     "output_type": "stream",
     "text": [
      "Fre is Not Present\n"
     ]
    }
   ],
   "source": [
    "txt = \"The best things in life are free!\"\n",
    "if 'z' in txt:\n",
    "    print(\"Yes , 'Free' is Present\")\n",
    "else:\n",
    "    print(\"Frer is Not Present\")"
   ]
  },
  {
   "cell_type": "code",
   "execution_count": 89,
   "id": "6de9d296-feca-42d1-bfe2-868aaf90e8ff",
   "metadata": {},
   "outputs": [
    {
     "name": "stdout",
     "output_type": "stream",
     "text": [
      "True\n"
     ]
    }
   ],
   "source": [
    "print (\"Extension\" not in txt)"
   ]
  },
  {
   "cell_type": "code",
   "execution_count": 97,
   "id": "d7f8b5e5-69db-4f85-9e89-8228c1290ddd",
   "metadata": {},
   "outputs": [],
   "source": [
    "if \"free\" not in txt:\n",
    "    print(\"Free not Present\")"
   ]
  },
  {
   "cell_type": "code",
   "execution_count": 101,
   "id": "85df2814-24eb-4d0e-8b87-d4cd2118f12e",
   "metadata": {},
   "outputs": [
    {
     "name": "stdout",
     "output_type": "stream",
     "text": [
      "el\n"
     ]
    }
   ],
   "source": [
    "# slicing String\n",
    "h=\"Hello world\"\n",
    "print(h[1:3])"
   ]
  },
  {
   "cell_type": "code",
   "execution_count": 115,
   "id": "f7da89ba-4c53-463c-bb3c-6d957a5beebe",
   "metadata": {},
   "outputs": [
    {
     "name": "stdout",
     "output_type": "stream",
     "text": [
      "rld\n"
     ]
    }
   ],
   "source": [
    "b = \" Hello, World! \"\n",
    "print(b[-5:-2])"
   ]
  },
  {
   "cell_type": "code",
   "execution_count": 117,
   "id": "30ca1a25-957e-4fb2-a7f0-9283dda17266",
   "metadata": {},
   "outputs": [
    {
     "name": "stdout",
     "output_type": "stream",
     "text": [
      "HELLO WORLD\n"
     ]
    }
   ],
   "source": [
    "print(h.upper())"
   ]
  },
  {
   "cell_type": "code",
   "execution_count": 119,
   "id": "7d01d7b4-fbdb-41c2-b14f-2acffeda543d",
   "metadata": {},
   "outputs": [
    {
     "name": "stdout",
     "output_type": "stream",
     "text": [
      "hello world\n"
     ]
    }
   ],
   "source": [
    "print(h.lower())"
   ]
  },
  {
   "cell_type": "code",
   "execution_count": 123,
   "id": "a2d30234-0515-4651-9b2c-25d7232401ec",
   "metadata": {},
   "outputs": [
    {
     "name": "stdout",
     "output_type": "stream",
     "text": [
      "Hello world\n"
     ]
    }
   ],
   "source": [
    "print(h.strip())"
   ]
  },
  {
   "cell_type": "code",
   "execution_count": 125,
   "id": "63c67972-ce26-46f1-aa65-19ac02763e0a",
   "metadata": {},
   "outputs": [
    {
     "name": "stdout",
     "output_type": "stream",
     "text": [
      "Hello world\n"
     ]
    }
   ],
   "source": [
    "print(h.strip())"
   ]
  },
  {
   "cell_type": "code",
   "execution_count": 127,
   "id": "d480ae5a-30a8-4aa3-906b-803e4b983f77",
   "metadata": {},
   "outputs": [
    {
     "name": "stdout",
     "output_type": "stream",
     "text": [
      "Wello world\n"
     ]
    }
   ],
   "source": [
    "# Replace String\n",
    "y=h.replace(\"H\",\"W\")\n",
    "print(y)"
   ]
  },
  {
   "cell_type": "code",
   "execution_count": 137,
   "id": "f9629192-dafd-4865-b594-6050fc734ed3",
   "metadata": {},
   "outputs": [
    {
     "name": "stdout",
     "output_type": "stream",
     "text": [
      "['He,llo Wor', 'ld']\n"
     ]
    }
   ],
   "source": [
    "a=\"He,llo Wor/ld\"\n",
    "print(a.split(\"/\"))"
   ]
  },
  {
   "cell_type": "code",
   "execution_count": 143,
   "id": "149522e4-a896-4467-9ebc-6a8edd24e8d5",
   "metadata": {},
   "outputs": [
    {
     "name": "stdout",
     "output_type": "stream",
     "text": [
      "This is a Formate String 150\n"
     ]
    }
   ],
   "source": [
    "# Format String\n",
    "a=100\n",
    "b=50\n",
    "txt=f\"This is a Formate String {a+b}\"\n",
    "print(txt)"
   ]
  },
  {
   "cell_type": "code",
   "execution_count": 145,
   "id": "573ddc59-d306-4d1b-b6ea-0ef3cce038d1",
   "metadata": {},
   "outputs": [
    {
     "name": "stdout",
     "output_type": "stream",
     "text": [
      "The price is 59.00 dollars\n"
     ]
    }
   ],
   "source": [
    "price = 59\n",
    "txt = f\"The price is {price:.2f} dollars\"\n",
    "print(txt)"
   ]
  },
  {
   "cell_type": "code",
   "execution_count": 147,
   "id": "bbab9f71-e8c8-4c72-a11c-e4c0ccc35614",
   "metadata": {},
   "outputs": [
    {
     "name": "stdout",
     "output_type": "stream",
     "text": [
      "The Price is$59.00 Dolars\n"
     ]
    }
   ],
   "source": [
    "txt=f\"The Price is${price:.2f} Dolars\"\n",
    "print (txt)"
   ]
  },
  {
   "cell_type": "code",
   "execution_count": 149,
   "id": "4caf2684-c739-4cb8-b822-8a1b9a2ffc4d",
   "metadata": {},
   "outputs": [
    {
     "name": "stdout",
     "output_type": "stream",
     "text": [
      "We are the so-called \"Vikings\" from the north.\n"
     ]
    }
   ],
   "source": [
    "txt = \"We are the so-called \\\"Vikings\\\" from the north.\"\n",
    "print(txt)\n"
   ]
  },
  {
   "cell_type": "code",
   "execution_count": 161,
   "id": "12488b7c-85d8-470f-b658-c3046056e69b",
   "metadata": {},
   "outputs": [
    {
     "name": "stdout",
     "output_type": "stream",
     "text": [
      "' shor So-calle\\viki\\ \n"
     ]
    }
   ],
   "source": [
    "txt=\"We are So-calle\\\\viki\\\\ \\r' shor\"\n",
    "print(txt)"
   ]
  },
  {
   "cell_type": "code",
   "execution_count": null,
   "id": "18779fcf-96c7-45c0-bb2b-55f08edffb15",
   "metadata": {},
   "outputs": [],
   "source": []
  }
 ],
 "metadata": {
  "kernelspec": {
   "display_name": "Python [conda env:base] *",
   "language": "python",
   "name": "conda-base-py"
  },
  "language_info": {
   "codemirror_mode": {
    "name": "ipython",
    "version": 3
   },
   "file_extension": ".py",
   "mimetype": "text/x-python",
   "name": "python",
   "nbconvert_exporter": "python",
   "pygments_lexer": "ipython3",
   "version": "3.12.7"
  }
 },
 "nbformat": 4,
 "nbformat_minor": 5
}
