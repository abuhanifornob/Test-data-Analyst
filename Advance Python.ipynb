{
 "cells": [
  {
   "cell_type": "code",
   "execution_count": 1,
   "id": "24aa1c12-fd09-421a-954b-b5556cf6058d",
   "metadata": {},
   "outputs": [
    {
     "name": "stdout",
     "output_type": "stream",
     "text": [
      "My Name is : Abu Hanif\n"
     ]
    }
   ],
   "source": [
    "def myfunction(name):\n",
    "    print(f\"My Name is : {name}\")\n",
    "\n",
    "myfunction(\"Abu Hanif\")"
   ]
  },
  {
   "cell_type": "markdown",
   "id": "ecedcf41-eca9-40cd-939f-5923b8aea419",
   "metadata": {},
   "source": [
    "Arbitrary Arguments, *args\n",
    "\n",
    "If you do not know how many arguments that will be passed into your function, add a * before the parameter name in the function definition."
   ]
  },
  {
   "cell_type": "code",
   "execution_count": 8,
   "id": "f9ba26c0-94e4-4d0e-ac31-88be153ef94d",
   "metadata": {},
   "outputs": [
    {
     "name": "stdout",
     "output_type": "stream",
     "text": [
      "Hanif\n",
      "<class 'tuple'>\n"
     ]
    }
   ],
   "source": [
    "def arbitary_argu(*para):\n",
    "    print(para[0])\n",
    "    print(type(para))\n",
    "arbitary_argu(\"Hanif\",\"Hadiya\")"
   ]
  },
  {
   "cell_type": "markdown",
   "id": "a640320b-a271-4df7-921b-8c351f455842",
   "metadata": {},
   "source": [
    "Keyword Arguments.\n",
    "\n",
    "You can also send arguments with the key = value syntax"
   ]
  },
  {
   "cell_type": "code",
   "execution_count": 14,
   "id": "ecc5f717-92dd-4d0b-b3dc-bbacec1fd0d1",
   "metadata": {},
   "outputs": [
    {
     "name": "stdout",
     "output_type": "stream",
     "text": [
      "30 40\n"
     ]
    }
   ],
   "source": [
    "def myfunction_keyword(num1,num2,num3,num4):\n",
    "    print(num2,num4)\n",
    "\n",
    "myfunction_keyword(num1=10,num3=20,num2=30,num4=40)"
   ]
  },
  {
   "cell_type": "markdown",
   "id": "273e1d2b-4f61-4726-ab07-08f022e55c61",
   "metadata": {},
   "source": [
    "Arbitrary Keyword Arguments, **kwargs\n",
    "\n",
    "If you do not know how many keyword arguments that will be passed into your function, add two asterisk: ** before the parameter name in the function definition."
   ]
  },
  {
   "cell_type": "code",
   "execution_count": 17,
   "id": "2806b306-240d-4ed9-8b00-e8580f55dfa0",
   "metadata": {},
   "outputs": [
    {
     "name": "stdout",
     "output_type": "stream",
     "text": [
      "His last name is Refsnes\n"
     ]
    }
   ],
   "source": [
    "def my_function(**kid):\n",
    "  print(\"His last name is \" + kid[\"lname\"])\n",
    "\n",
    "my_function(fname = \"Tobias\", lname = \"Refsnes\")"
   ]
  },
  {
   "cell_type": "markdown",
   "id": "1af249b0-91c4-4faa-8723-04210f20da6b",
   "metadata": {},
   "source": [
    "Default Parameter Value\n",
    "\n",
    "The following example shows how to use a default parameter value.\n",
    "\n",
    "If we call the function without argument, it uses the default value:"
   ]
  },
  {
   "cell_type": "code",
   "execution_count": 24,
   "id": "5cbb39de-1600-4cfe-b9cd-03af7b68e738",
   "metadata": {},
   "outputs": [
    {
     "name": "stdout",
     "output_type": "stream",
     "text": [
      "My Country name is : Bangladesh\n",
      "My Country name is : pakistan\n"
     ]
    }
   ],
   "source": [
    "def myCountry(country=\"Bangladesh\"):\n",
    "    print(f\"My Country name is : {country}\")\n",
    "myCountry()\n",
    "myCountry(\"pakistan\")"
   ]
  },
  {
   "cell_type": "markdown",
   "id": "69c8dfe2-fc7d-4c2f-a94c-d686148e170f",
   "metadata": {},
   "source": [
    "Passing a List as an Argument"
   ]
  },
  {
   "cell_type": "code",
   "execution_count": 31,
   "id": "b694b44d-9e45-4e8d-bd94-150feb1584da",
   "metadata": {},
   "outputs": [
    {
     "name": "stdout",
     "output_type": "stream",
     "text": [
      "banana apple cherry "
     ]
    }
   ],
   "source": [
    "def pasList(food):\n",
    "    for x in food:\n",
    "        print(x, end=\" \")\n",
    "\n",
    "food=['banana',\"apple\",\"cherry\"]\n",
    "pasList(food)"
   ]
  },
  {
   "cell_type": "markdown",
   "id": "0b5ee607-b0fe-48f2-ac7b-ad674c14420b",
   "metadata": {},
   "source": [
    "Return Values \n",
    "\n",
    "To let a function return a value, use the return statement:"
   ]
  },
  {
   "cell_type": "code",
   "execution_count": 34,
   "id": "695c708e-f2f9-4770-a187-32d6bdbdf65d",
   "metadata": {},
   "outputs": [
    {
     "name": "stdout",
     "output_type": "stream",
     "text": [
      "200\n"
     ]
    }
   ],
   "source": [
    "def returnValue(number):\n",
    "    return number+100\n",
    "print(returnValue(100))"
   ]
  },
  {
   "cell_type": "markdown",
   "id": "70721c18-c077-46c5-84d0-e37d708424d1",
   "metadata": {},
   "source": [
    "The pass Statement\n",
    "\n",
    "function definitions cannot be empty, but if you for some reason have a function definition with no content, put in the pass statement to avoid getting an error."
   ]
  },
  {
   "cell_type": "code",
   "execution_count": 37,
   "id": "8bba4a4f-56e8-4868-a50a-4555ad557f6d",
   "metadata": {},
   "outputs": [],
   "source": [
    "def myFunction():\n",
    "    pass"
   ]
  },
  {
   "cell_type": "code",
   "execution_count": 39,
   "id": "0b6feea3-216d-4f8e-a243-96dd495b820a",
   "metadata": {},
   "outputs": [
    {
     "name": "stdout",
     "output_type": "stream",
     "text": [
      "3\n"
     ]
    }
   ],
   "source": [
    "def my_function(x, /):\n",
    "  print(x)\n",
    "\n",
    "my_function(3)"
   ]
  },
  {
   "cell_type": "code",
   "execution_count": 41,
   "id": "8db171f8-ce38-4acf-ad91-4e94fd9ae3a3",
   "metadata": {},
   "outputs": [
    {
     "name": "stdout",
     "output_type": "stream",
     "text": [
      "3\n"
     ]
    }
   ],
   "source": [
    "def my_function(x):\n",
    "  print(x)\n",
    "\n",
    "my_function(x = 3)"
   ]
  },
  {
   "cell_type": "code",
   "execution_count": 43,
   "id": "87557e3c-3acd-4222-9c6a-cecedb9ac511",
   "metadata": {},
   "outputs": [
    {
     "ename": "TypeError",
     "evalue": "my_function() got some positional-only arguments passed as keyword arguments: 'x'",
     "output_type": "error",
     "traceback": [
      "\u001b[1;31m---------------------------------------------------------------------------\u001b[0m",
      "\u001b[1;31mTypeError\u001b[0m                                 Traceback (most recent call last)",
      "Cell \u001b[1;32mIn[43], line 4\u001b[0m\n\u001b[0;32m      1\u001b[0m \u001b[38;5;28;01mdef\u001b[39;00m \u001b[38;5;21mmy_function\u001b[39m(x, \u001b[38;5;241m/\u001b[39m):\n\u001b[0;32m      2\u001b[0m   \u001b[38;5;28mprint\u001b[39m(x)\n\u001b[1;32m----> 4\u001b[0m my_function(x \u001b[38;5;241m=\u001b[39m \u001b[38;5;241m3\u001b[39m)\n",
      "\u001b[1;31mTypeError\u001b[0m: my_function() got some positional-only arguments passed as keyword arguments: 'x'"
     ]
    }
   ],
   "source": [
    "def my_function(x, /):\n",
    "  print(x)\n",
    "\n",
    "my_function(x = 3)"
   ]
  },
  {
   "cell_type": "markdown",
   "id": "a38a23de-7fb7-4a22-aa02-4c462d948ba6",
   "metadata": {},
   "source": [
    "Python Lambda"
   ]
  },
  {
   "cell_type": "code",
   "execution_count": 50,
   "id": "14534460-aea9-4115-841e-4e6f535132ee",
   "metadata": {},
   "outputs": [
    {
     "name": "stdout",
     "output_type": "stream",
     "text": [
      "20\n"
     ]
    }
   ],
   "source": [
    "x=lambda a:a+10\n",
    "print(x(10))"
   ]
  },
  {
   "cell_type": "code",
   "execution_count": 52,
   "id": "ed8db611-9a94-4200-9f40-d485fd5a69a5",
   "metadata": {},
   "outputs": [
    {
     "name": "stdout",
     "output_type": "stream",
     "text": [
      "100\n"
     ]
    }
   ],
   "source": [
    "multi=lambda a,b:a*b\n",
    "print(multi(10,10))"
   ]
  },
  {
   "cell_type": "code",
   "execution_count": 56,
   "id": "23a08baf-f21c-4c3f-82d3-a10aea5dda5c",
   "metadata": {},
   "outputs": [
    {
     "name": "stdout",
     "output_type": "stream",
     "text": [
      "20\n"
     ]
    }
   ],
   "source": [
    "def myFunction(n):\n",
    "    return lambda a:a+n\n",
    "firstResult=myFunction(10)\n",
    "print(firstResult(10))"
   ]
  },
  {
   "cell_type": "code",
   "execution_count": 66,
   "id": "4a93850a-b1d0-4cb4-a09b-678c4564f821",
   "metadata": {},
   "outputs": [
    {
     "name": "stdout",
     "output_type": "stream",
     "text": [
      "Hanif\n",
      "30\n",
      "<__main__.Person object at 0x000002A32FDA63C0>\n"
     ]
    }
   ],
   "source": [
    "class Person:\n",
    "    def __init__(self,name,age):\n",
    "        self.name=name\n",
    "        self.age=age\n",
    "obj1=Person(\"Hanif\",30)\n",
    "print(obj1.name)\n",
    "print(obj1.age)\n",
    "print(obj1)"
   ]
  },
  {
   "cell_type": "code",
   "execution_count": 74,
   "id": "6752763c-404f-45a0-8413-999973cfeca0",
   "metadata": {},
   "outputs": [
    {
     "name": "stdout",
     "output_type": "stream",
     "text": [
      "Nameis:Hanif \n",
      " Age is: 30\n"
     ]
    }
   ],
   "source": [
    "class Person:\n",
    "    def __init__(self,name,age):\n",
    "        self.name=name\n",
    "        self.age=age\n",
    "    def __str__(self):\n",
    "        return f\"Nameis:{self.name} \\n Age is: {self.age}\"\n",
    "obj2=Person(\"Hanif\",30)\n",
    "print(obj2)"
   ]
  },
  {
   "cell_type": "code",
   "execution_count": 80,
   "id": "0ab607d5-a970-4957-882d-eae9be9706ff",
   "metadata": {},
   "outputs": [
    {
     "name": "stdout",
     "output_type": "stream",
     "text": [
      "Name :hanif and age : 32\n"
     ]
    }
   ],
   "source": [
    "class Person:\n",
    "    def __init__(self,name,age):\n",
    "        self.name=name\n",
    "        self.age=age\n",
    "    def details(self):\n",
    "        return f\"Name :{self.name} and age : {self.age}\"\n",
    "\n",
    "obj3=Person(\"hanif\",32)\n",
    "print(obj3.details())"
   ]
  },
  {
   "cell_type": "markdown",
   "id": "574b8e48-0dce-45b1-a3d2-02c368548d7c",
   "metadata": {},
   "source": [
    "Python Inheritance\n",
    "Inheritance allows us to define a class that inherits all the methods and properties from another class.\n",
    "\n",
    "Parent class is the class being inherited from, also called base class.\n",
    "\n",
    "Child class is the class that inherits from another class, also called derived class."
   ]
  },
  {
   "cell_type": "code",
   "execution_count": 13,
   "id": "7f14f243-641a-4b85-a800-8c72ceff3799",
   "metadata": {},
   "outputs": [
    {
     "name": "stdout",
     "output_type": "stream",
     "text": [
      "My Name Is: hanif and Age is : 30\n",
      "My student id is:201830625\n"
     ]
    }
   ],
   "source": [
    "class Person:\n",
    "    def __init__(self,name,age):\n",
    "        self.name=name\n",
    "        self.age=age\n",
    "    def showInfo(self):\n",
    "        print(f\"My Name Is: {self.name} and Age is : {self.age}\")\n",
    "\n",
    "class Student(Person):\n",
    "    def __init__(self,name,age,student_id):\n",
    "        super().__init__(name,age)\n",
    "        self.student_id=student_id\n",
    "    def show_id(self):\n",
    "        print(f\"My student id is:{self.student_id}\")\n",
    "\n",
    "obj1=Student(\"hanif\",30,201830625)\n",
    "obj1.showInfo()\n",
    "obj1.show_id()\n",
    "\n"
   ]
  },
  {
   "cell_type": "code",
   "execution_count": null,
   "id": "e97daff3-c537-47a1-8c55-50f83f3228c8",
   "metadata": {},
   "outputs": [],
   "source": []
  }
 ],
 "metadata": {
  "kernelspec": {
   "display_name": "Python [conda env:base] *",
   "language": "python",
   "name": "conda-base-py"
  },
  "language_info": {
   "codemirror_mode": {
    "name": "ipython",
    "version": 3
   },
   "file_extension": ".py",
   "mimetype": "text/x-python",
   "name": "python",
   "nbconvert_exporter": "python",
   "pygments_lexer": "ipython3",
   "version": "3.12.7"
  }
 },
 "nbformat": 4,
 "nbformat_minor": 5
}
